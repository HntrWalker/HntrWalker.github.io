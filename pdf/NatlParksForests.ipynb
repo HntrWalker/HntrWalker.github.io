{
  "nbformat": 4,
  "nbformat_minor": 0,
  "metadata": {
    "colab": {
      "name": "NatlParksForests.ipynb",
      "provenance": [],
      "collapsed_sections": [],
      "toc_visible": true
    },
    "kernelspec": {
      "name": "python3",
      "display_name": "Python 3"
    },
    "language_info": {
      "name": "python"
    }
  },
  "cells": [
    {
      "cell_type": "markdown",
      "metadata": {
        "id": "hh0LMiLVnr3t"
      },
      "source": [
        "# NATIONAL PARKS"
      ]
    },
    {
      "cell_type": "code",
      "metadata": {
        "id": "k_P_yzYHntQ5",
        "colab": {
          "base_uri": "https://localhost:8080/"
        },
        "outputId": "ef9f388f-a673-4179-b479-70ad38e548c9"
      },
      "source": [
        "!pip install Wikipedia\n",
        "import wikipedia"
      ],
      "execution_count": null,
      "outputs": [
        {
          "output_type": "stream",
          "text": [
            "Requirement already satisfied: Wikipedia in /usr/local/lib/python3.7/dist-packages (1.4.0)\n",
            "Requirement already satisfied: beautifulsoup4 in /usr/local/lib/python3.7/dist-packages (from Wikipedia) (4.6.3)\n",
            "Requirement already satisfied: requests<3.0.0,>=2.0.0 in /usr/local/lib/python3.7/dist-packages (from Wikipedia) (2.23.0)\n",
            "Requirement already satisfied: certifi>=2017.4.17 in /usr/local/lib/python3.7/dist-packages (from requests<3.0.0,>=2.0.0->Wikipedia) (2020.12.5)\n",
            "Requirement already satisfied: urllib3!=1.25.0,!=1.25.1,<1.26,>=1.21.1 in /usr/local/lib/python3.7/dist-packages (from requests<3.0.0,>=2.0.0->Wikipedia) (1.24.3)\n",
            "Requirement already satisfied: idna<3,>=2.5 in /usr/local/lib/python3.7/dist-packages (from requests<3.0.0,>=2.0.0->Wikipedia) (2.10)\n",
            "Requirement already satisfied: chardet<4,>=3.0.2 in /usr/local/lib/python3.7/dist-packages (from requests<3.0.0,>=2.0.0->Wikipedia) (3.0.4)\n"
          ],
          "name": "stdout"
        }
      ]
    },
    {
      "cell_type": "code",
      "metadata": {
        "id": "KlrpQjkvq7HB"
      },
      "source": [
        "natlParks = wikipedia.page(\"List of national parks of the United States\")\n",
        "natlForests = wikipedia.page(\"List of national forests of the United States\") "
      ],
      "execution_count": null,
      "outputs": []
    },
    {
      "cell_type": "code",
      "metadata": {
        "colab": {
          "base_uri": "https://localhost:8080/",
          "height": 37
        },
        "id": "9PbThPAxr5D8",
        "outputId": "3ad0ef0c-0e69-4328-ae99-f066618da3ea"
      },
      "source": [
        "natlParks.url"
      ],
      "execution_count": null,
      "outputs": [
        {
          "output_type": "execute_result",
          "data": {
            "application/vnd.google.colaboratory.intrinsic+json": {
              "type": "string"
            },
            "text/plain": [
              "'https://en.wikipedia.org/wiki/List_of_national_parks_of_the_United_States'"
            ]
          },
          "metadata": {
            "tags": []
          },
          "execution_count": 3
        }
      ]
    },
    {
      "cell_type": "code",
      "metadata": {
        "colab": {
          "base_uri": "https://localhost:8080/",
          "height": 37
        },
        "id": "nuOtNpBJf4Ba",
        "outputId": "30c22fff-90b9-495f-885f-7368224406fb"
      },
      "source": [
        "natlForests.url"
      ],
      "execution_count": null,
      "outputs": [
        {
          "output_type": "execute_result",
          "data": {
            "application/vnd.google.colaboratory.intrinsic+json": {
              "type": "string"
            },
            "text/plain": [
              "'https://en.wikipedia.org/wiki/List_of_national_forests_of_the_United_States'"
            ]
          },
          "metadata": {
            "tags": []
          },
          "execution_count": 4
        }
      ]
    },
    {
      "cell_type": "code",
      "metadata": {
        "id": "bBZ2DZnZrHjP"
      },
      "source": [
        "import pandas as pd\n",
        "import requests\n",
        "from bs4 import BeautifulSoup"
      ],
      "execution_count": null,
      "outputs": []
    },
    {
      "cell_type": "code",
      "metadata": {
        "colab": {
          "base_uri": "https://localhost:8080/"
        },
        "id": "eSecrMzorvhR",
        "outputId": "d3f29f45-4535-4192-f6a9-b8c2a612a863"
      },
      "source": [
        "# get the response in the form of html\n",
        "parksurl = \"https://en.wikipedia.org/wiki/List_of_national_parks_of_the_United_States\"\n",
        "table_class = \"wikitable sortable plainrowheaders\"\n",
        "response = requests.get(parksurl)\n",
        "print(response.status_code)"
      ],
      "execution_count": null,
      "outputs": [
        {
          "output_type": "stream",
          "text": [
            "200\n"
          ],
          "name": "stdout"
        }
      ]
    },
    {
      "cell_type": "code",
      "metadata": {
        "id": "SGqfv4dQs5pr"
      },
      "source": [
        "soup = BeautifulSoup(response.text, 'html.parser')\n",
        "table = soup.find('table',{'class':\"wikitable\"})"
      ],
      "execution_count": null,
      "outputs": []
    },
    {
      "cell_type": "code",
      "metadata": {
        "colab": {
          "base_uri": "https://localhost:8080/"
        },
        "id": "7IA7cQF1s6bM",
        "outputId": "13bc2278-e732-47e7-9fe5-dda03ed464f1"
      },
      "source": [
        "df = pd.read_html(str(table))\n",
        "df = pd.DataFrame(df[0])\n",
        "print(df.head())"
      ],
      "execution_count": null,
      "outputs": [
        {
          "output_type": "stream",
          "text": [
            "             Name  ...                                        Description\n",
            "0          Acadia  ...  Covering most of Mount Desert Island and other...\n",
            "1  American Samoa  ...  The southernmost national park is on three Sam...\n",
            "2          Arches  ...  This site features more than 2,000 natural san...\n",
            "3        Badlands  ...  The Badlands are a collection of buttes, pinna...\n",
            "4        Big Bend  ...  Named for the prominent bend in the Rio Grande...\n",
            "\n",
            "[5 rows x 7 columns]\n"
          ],
          "name": "stdout"
        }
      ]
    },
    {
      "cell_type": "code",
      "metadata": {
        "id": "Vexmz8Kjxag_"
      },
      "source": [
        "locations = df['Location'].tolist()"
      ],
      "execution_count": null,
      "outputs": []
    },
    {
      "cell_type": "code",
      "metadata": {
        "colab": {
          "base_uri": "https://localhost:8080/",
          "height": 37
        },
        "id": "UiUIHyS1x_KC",
        "outputId": "bfcd796a-2af7-481e-c0e9-61c2d237ff7d"
      },
      "source": [
        "locations[1]"
      ],
      "execution_count": null,
      "outputs": [
        {
          "output_type": "execute_result",
          "data": {
            "application/vnd.google.colaboratory.intrinsic+json": {
              "type": "string"
            },
            "text/plain": [
              "'American Samoa14°15′S 170°41′W\\ufeff / \\ufeff14.25°S 170.68°W'"
            ]
          },
          "metadata": {
            "tags": []
          },
          "execution_count": 10
        }
      ]
    },
    {
      "cell_type": "code",
      "metadata": {
        "id": "hc53aHpUuNZU"
      },
      "source": [
        "coordinates = []\n",
        "for i in range(len(locations)): \n",
        "  search = locations[i].find(\"\\ufeff\") \n",
        "  stringAssign = locations[i]\n",
        "  coordinates.append(stringAssign[search+5:])"
      ],
      "execution_count": null,
      "outputs": []
    },
    {
      "cell_type": "code",
      "metadata": {
        "colab": {
          "base_uri": "https://localhost:8080/"
        },
        "id": "jO7RPvqwiCer",
        "outputId": "5e3eb0b8-e4a0-46fd-f0f5-daa3a3ee935c"
      },
      "source": [
        "df.columns"
      ],
      "execution_count": null,
      "outputs": [
        {
          "output_type": "execute_result",
          "data": {
            "text/plain": [
              "Index(['Name', 'Image', 'Location', 'Date established as park[6][12]',\n",
              "       'Area (2019)[13]', 'Recreation visitors (2019)[10]', 'Description'],\n",
              "      dtype='object')"
            ]
          },
          "metadata": {
            "tags": []
          },
          "execution_count": 12
        }
      ]
    },
    {
      "cell_type": "code",
      "metadata": {
        "colab": {
          "base_uri": "https://localhost:8080/",
          "height": 204
        },
        "id": "n-e-FgIRtpV9",
        "outputId": "9d9dc6f0-83d5-4212-9623-b08ed920a7d7"
      },
      "source": [
        "parks = df.drop([\"Image\", \"Location\", \"Date established as park[6][12]\", \"Area (2019)[13]\", \"Recreation visitors (2019)[10]\", \"Description\"], axis=1)\n",
        "parks.head()"
      ],
      "execution_count": null,
      "outputs": [
        {
          "output_type": "execute_result",
          "data": {
            "text/html": [
              "<div>\n",
              "<style scoped>\n",
              "    .dataframe tbody tr th:only-of-type {\n",
              "        vertical-align: middle;\n",
              "    }\n",
              "\n",
              "    .dataframe tbody tr th {\n",
              "        vertical-align: top;\n",
              "    }\n",
              "\n",
              "    .dataframe thead th {\n",
              "        text-align: right;\n",
              "    }\n",
              "</style>\n",
              "<table border=\"1\" class=\"dataframe\">\n",
              "  <thead>\n",
              "    <tr style=\"text-align: right;\">\n",
              "      <th></th>\n",
              "      <th>Name</th>\n",
              "    </tr>\n",
              "  </thead>\n",
              "  <tbody>\n",
              "    <tr>\n",
              "      <th>0</th>\n",
              "      <td>Acadia</td>\n",
              "    </tr>\n",
              "    <tr>\n",
              "      <th>1</th>\n",
              "      <td>American Samoa</td>\n",
              "    </tr>\n",
              "    <tr>\n",
              "      <th>2</th>\n",
              "      <td>Arches</td>\n",
              "    </tr>\n",
              "    <tr>\n",
              "      <th>3</th>\n",
              "      <td>Badlands</td>\n",
              "    </tr>\n",
              "    <tr>\n",
              "      <th>4</th>\n",
              "      <td>Big Bend</td>\n",
              "    </tr>\n",
              "  </tbody>\n",
              "</table>\n",
              "</div>"
            ],
            "text/plain": [
              "             Name\n",
              "0          Acadia\n",
              "1  American Samoa\n",
              "2          Arches\n",
              "3        Badlands\n",
              "4        Big Bend"
            ]
          },
          "metadata": {
            "tags": []
          },
          "execution_count": 13
        }
      ]
    },
    {
      "cell_type": "code",
      "metadata": {
        "id": "-y1zMCSAiXk5"
      },
      "source": [
        "parks['Coordinates'] = coordinates"
      ],
      "execution_count": null,
      "outputs": []
    },
    {
      "cell_type": "code",
      "metadata": {
        "colab": {
          "base_uri": "https://localhost:8080/",
          "height": 204
        },
        "id": "8g3kqL4gievn",
        "outputId": "066ea2e4-ada9-422f-a591-4b3dc3822646"
      },
      "source": [
        "parks.head()"
      ],
      "execution_count": null,
      "outputs": [
        {
          "output_type": "execute_result",
          "data": {
            "text/html": [
              "<div>\n",
              "<style scoped>\n",
              "    .dataframe tbody tr th:only-of-type {\n",
              "        vertical-align: middle;\n",
              "    }\n",
              "\n",
              "    .dataframe tbody tr th {\n",
              "        vertical-align: top;\n",
              "    }\n",
              "\n",
              "    .dataframe thead th {\n",
              "        text-align: right;\n",
              "    }\n",
              "</style>\n",
              "<table border=\"1\" class=\"dataframe\">\n",
              "  <thead>\n",
              "    <tr style=\"text-align: right;\">\n",
              "      <th></th>\n",
              "      <th>Name</th>\n",
              "      <th>Coordinates</th>\n",
              "    </tr>\n",
              "  </thead>\n",
              "  <tbody>\n",
              "    <tr>\n",
              "      <th>0</th>\n",
              "      <td>Acadia</td>\n",
              "      <td>44.35°N 68.21°W</td>\n",
              "    </tr>\n",
              "    <tr>\n",
              "      <th>1</th>\n",
              "      <td>American Samoa</td>\n",
              "      <td>14.25°S 170.68°W</td>\n",
              "    </tr>\n",
              "    <tr>\n",
              "      <th>2</th>\n",
              "      <td>Arches</td>\n",
              "      <td>38.68°N 109.57°W</td>\n",
              "    </tr>\n",
              "    <tr>\n",
              "      <th>3</th>\n",
              "      <td>Badlands</td>\n",
              "      <td>43.75°N 102.50°W</td>\n",
              "    </tr>\n",
              "    <tr>\n",
              "      <th>4</th>\n",
              "      <td>Big Bend</td>\n",
              "      <td>29.25°N 103.25°W</td>\n",
              "    </tr>\n",
              "  </tbody>\n",
              "</table>\n",
              "</div>"
            ],
            "text/plain": [
              "             Name       Coordinates\n",
              "0          Acadia   44.35°N 68.21°W\n",
              "1  American Samoa  14.25°S 170.68°W\n",
              "2          Arches  38.68°N 109.57°W\n",
              "3        Badlands  43.75°N 102.50°W\n",
              "4        Big Bend  29.25°N 103.25°W"
            ]
          },
          "metadata": {
            "tags": []
          },
          "execution_count": 15
        }
      ]
    },
    {
      "cell_type": "markdown",
      "metadata": {
        "id": "jwiH5FSujfwY"
      },
      "source": [
        "# NATIONAL FORESTS"
      ]
    },
    {
      "cell_type": "code",
      "metadata": {
        "colab": {
          "base_uri": "https://localhost:8080/"
        },
        "id": "mkgL6tgqjiGR",
        "outputId": "901cc00e-946f-435d-c6dd-bbbaf5f9ce98"
      },
      "source": [
        "forestsurl = \"https://en.wikipedia.org/wiki/List_of_national_forests_of_the_United_States\"\n",
        "table_class_forests = \"wikitable sortable plainrowheaders\"\n",
        "response_forests = requests.get(forestsurl)\n",
        "print(response_forests.status_code)"
      ],
      "execution_count": null,
      "outputs": [
        {
          "output_type": "stream",
          "text": [
            "200\n"
          ],
          "name": "stdout"
        }
      ]
    },
    {
      "cell_type": "code",
      "metadata": {
        "id": "vefkwYerj_08"
      },
      "source": [
        "soup_forests = BeautifulSoup(response_forests.text, 'html.parser')\n",
        "table_forests = soup_forests.find('table',{'class':\"wikitable\"})"
      ],
      "execution_count": null,
      "outputs": []
    },
    {
      "cell_type": "code",
      "metadata": {
        "colab": {
          "base_uri": "https://localhost:8080/"
        },
        "id": "80YLW4s8kFHM",
        "outputId": "002dffec-6900-4ec7-bfcd-814a0cfada2c"
      },
      "source": [
        "df_forests = pd.read_html(str(table_forests))\n",
        "df_forests = pd.DataFrame(df_forests[0])\n",
        "print(df_forests.head())"
      ],
      "execution_count": null,
      "outputs": [
        {
          "output_type": "stream",
          "text": [
            "               NameA  ...                                       DescriptionD\n",
            "0          Allegheny  ...  Pennsylvania's only national forest includes K...\n",
            "1            Angeles  ...  Located in the San Gabriel Mountains at the ed...\n",
            "2           Angelina  ...  Primarily longleaf, loblolly, and shortleaf pi...\n",
            "3  Apache-Sitgreaves  ...  Encompassing the Mogollon Rim and White Mounta...\n",
            "4       Apalachicola  ...  As the largest national forest in Florida, Apa...\n",
            "\n",
            "[5 rows x 6 columns]\n"
          ],
          "name": "stdout"
        }
      ]
    },
    {
      "cell_type": "code",
      "metadata": {
        "colab": {
          "base_uri": "https://localhost:8080/"
        },
        "id": "wzoL09kokPdi",
        "outputId": "43eecb67-2ca7-4819-abcd-20cade222db4"
      },
      "source": [
        "df_forests.columns"
      ],
      "execution_count": null,
      "outputs": [
        {
          "output_type": "execute_result",
          "data": {
            "text/plain": [
              "Index(['NameA', 'Photo', 'Location[6]B', 'Date formed[4]C', 'Area[1]',\n",
              "       'DescriptionD'],\n",
              "      dtype='object')"
            ]
          },
          "metadata": {
            "tags": []
          },
          "execution_count": 19
        }
      ]
    },
    {
      "cell_type": "code",
      "metadata": {
        "id": "nX4PUUt1lSo-"
      },
      "source": [
        "locations_forests = df_forests['Location[6]B'].tolist()"
      ],
      "execution_count": null,
      "outputs": []
    },
    {
      "cell_type": "code",
      "metadata": {
        "colab": {
          "base_uri": "https://localhost:8080/",
          "height": 37
        },
        "id": "9TJDR6dmlagY",
        "outputId": "73f3c42c-8403-4ae6-f646-9fb8f0ae2ff5"
      },
      "source": [
        "locations_forests[1]"
      ],
      "execution_count": null,
      "outputs": [
        {
          "output_type": "execute_result",
          "data": {
            "application/vnd.google.colaboratory.intrinsic+json": {
              "type": "string"
            },
            "text/plain": [
              "'California34°24′N 118°10′W\\ufeff / \\ufeff34.400°N 118.167°W'"
            ]
          },
          "metadata": {
            "tags": []
          },
          "execution_count": 21
        }
      ]
    },
    {
      "cell_type": "code",
      "metadata": {
        "id": "YmMj-NZolbV6"
      },
      "source": [
        "coordinates_forests = []\n",
        "for i in range(len(locations_forests)): \n",
        "  search_forests = locations_forests[i].find(\"\\ufeff\") \n",
        "  stringAssign_forests = locations_forests[i]\n",
        "  coordinates_forests.append(stringAssign_forests[search_forests+5:])"
      ],
      "execution_count": null,
      "outputs": []
    },
    {
      "cell_type": "code",
      "metadata": {
        "colab": {
          "base_uri": "https://localhost:8080/",
          "height": 37
        },
        "id": "cu6OOXI6mAtM",
        "outputId": "db3a85b2-07f2-4b3f-ddb4-6548b362dec4"
      },
      "source": [
        "coordinates_forests[1]"
      ],
      "execution_count": null,
      "outputs": [
        {
          "output_type": "execute_result",
          "data": {
            "application/vnd.google.colaboratory.intrinsic+json": {
              "type": "string"
            },
            "text/plain": [
              "'34.400°N 118.167°W'"
            ]
          },
          "metadata": {
            "tags": []
          },
          "execution_count": 23
        }
      ]
    },
    {
      "cell_type": "code",
      "metadata": {
        "id": "B99UCCpTlyiN"
      },
      "source": [
        "forests = df_forests.drop([\"Photo\", \"Location[6]B\", \"Date formed[4]C\", \"Area[1]\", \"DescriptionD\"], axis=1)\n",
        "forests['Coordinates'] = coordinates_forests"
      ],
      "execution_count": null,
      "outputs": []
    },
    {
      "cell_type": "code",
      "metadata": {
        "colab": {
          "base_uri": "https://localhost:8080/",
          "height": 204
        },
        "id": "nBtrMkYkmIJh",
        "outputId": "cca42fce-e517-4e2b-8a7d-3bb530780340"
      },
      "source": [
        "forests.head()"
      ],
      "execution_count": null,
      "outputs": [
        {
          "output_type": "execute_result",
          "data": {
            "text/html": [
              "<div>\n",
              "<style scoped>\n",
              "    .dataframe tbody tr th:only-of-type {\n",
              "        vertical-align: middle;\n",
              "    }\n",
              "\n",
              "    .dataframe tbody tr th {\n",
              "        vertical-align: top;\n",
              "    }\n",
              "\n",
              "    .dataframe thead th {\n",
              "        text-align: right;\n",
              "    }\n",
              "</style>\n",
              "<table border=\"1\" class=\"dataframe\">\n",
              "  <thead>\n",
              "    <tr style=\"text-align: right;\">\n",
              "      <th></th>\n",
              "      <th>NameA</th>\n",
              "      <th>Coordinates</th>\n",
              "    </tr>\n",
              "  </thead>\n",
              "  <tbody>\n",
              "    <tr>\n",
              "      <th>0</th>\n",
              "      <td>Allegheny</td>\n",
              "      <td>41.650°N 79.017°W</td>\n",
              "    </tr>\n",
              "    <tr>\n",
              "      <th>1</th>\n",
              "      <td>Angeles</td>\n",
              "      <td>34.400°N 118.167°W</td>\n",
              "    </tr>\n",
              "    <tr>\n",
              "      <th>2</th>\n",
              "      <td>Angelina</td>\n",
              "      <td>31.217°N 94.283°W</td>\n",
              "    </tr>\n",
              "    <tr>\n",
              "      <th>3</th>\n",
              "      <td>Apache-Sitgreaves</td>\n",
              "      <td>33.733°N 109.083°W</td>\n",
              "    </tr>\n",
              "    <tr>\n",
              "      <th>4</th>\n",
              "      <td>Apalachicola</td>\n",
              "      <td>30.183°N 84.683°W</td>\n",
              "    </tr>\n",
              "  </tbody>\n",
              "</table>\n",
              "</div>"
            ],
            "text/plain": [
              "               NameA         Coordinates\n",
              "0          Allegheny   41.650°N 79.017°W\n",
              "1            Angeles  34.400°N 118.167°W\n",
              "2           Angelina   31.217°N 94.283°W\n",
              "3  Apache-Sitgreaves  33.733°N 109.083°W\n",
              "4       Apalachicola   30.183°N 84.683°W"
            ]
          },
          "metadata": {
            "tags": []
          },
          "execution_count": 25
        }
      ]
    },
    {
      "cell_type": "code",
      "metadata": {
        "colab": {
          "base_uri": "https://localhost:8080/"
        },
        "id": "sIGD-7HmAWYH",
        "outputId": "2605caec-6048-4c4e-e2f5-899cd12f1d0e"
      },
      "source": [
        "parks.loc[0,:]"
      ],
      "execution_count": null,
      "outputs": [
        {
          "output_type": "execute_result",
          "data": {
            "text/plain": [
              "Name                    Acadia\n",
              "Coordinates    44.35°N 68.21°W\n",
              "Name: 0, dtype: object"
            ]
          },
          "metadata": {
            "tags": []
          },
          "execution_count": 26
        }
      ]
    },
    {
      "cell_type": "code",
      "metadata": {
        "id": "EYYz0t0pAbeU"
      },
      "source": [
        "lat_lon_list = parks['Coordinates'].tolist()"
      ],
      "execution_count": null,
      "outputs": []
    },
    {
      "cell_type": "code",
      "metadata": {
        "id": "_L3IMis8DY72"
      },
      "source": [
        "parks_latitudes = []\n",
        "parks_longitudes = []\n",
        "for i in range(len(lat_lon_list)):\n",
        "  searchlat = lat_lon_list[i].find(\".\")\n",
        "  assignlat = lat_lon_list[i]\n",
        "  if assignlat[searchlat+2] == '°':\n",
        "    parks_latitudes.append(assignlat[0:searchlat+2])\n",
        "  else:\n",
        "    parks_latitudes.append(assignlat[0:searchlat+3])\n",
        "\n",
        "  searchlon = lat_lon_list[i].find(\" \")\n",
        "  assignlon = lat_lon_list[i]\n",
        "  parks_longitudes.append(assignlon[searchlon:searchlon+6])\n",
        "\n",
        "parks_longitudes_fixed = []\n",
        "for i in range(len(parks_longitudes)):\n",
        "  makeNeg = float(parks_longitudes[i])*-1\n",
        "  parks_longitudes_fixed.append(makeNeg)"
      ],
      "execution_count": null,
      "outputs": []
    },
    {
      "cell_type": "code",
      "metadata": {
        "id": "Gauytx0UtJh4"
      },
      "source": [
        "parks_latitudes[1] = -14.25"
      ],
      "execution_count": null,
      "outputs": []
    },
    {
      "cell_type": "code",
      "metadata": {
        "colab": {
          "base_uri": "https://localhost:8080/"
        },
        "id": "bkADHpk8Du9N",
        "outputId": "88bb8015-cc94-4d47-d764-4c4ddb815f4a"
      },
      "source": [
        "forests.loc[0,:]"
      ],
      "execution_count": null,
      "outputs": [
        {
          "output_type": "execute_result",
          "data": {
            "text/plain": [
              "NameA                  Allegheny\n",
              "Coordinates    41.650°N 79.017°W\n",
              "Name: 0, dtype: object"
            ]
          },
          "metadata": {
            "tags": []
          },
          "execution_count": 30
        }
      ]
    },
    {
      "cell_type": "code",
      "metadata": {
        "id": "SLYVuNG7GQFc"
      },
      "source": [
        "lat_lon_list_for = forests['Coordinates'].tolist()"
      ],
      "execution_count": null,
      "outputs": []
    },
    {
      "cell_type": "code",
      "metadata": {
        "id": "1-H3qgLMGXP_"
      },
      "source": [
        "forests_latitudes = []\n",
        "forests_longitudes = []\n",
        "for i in range(len(lat_lon_list_for)):\n",
        "  searchlat_for = lat_lon_list_for[i].find(\".\")\n",
        "  assignlat_for = lat_lon_list_for[i]\n",
        "  forests_latitudes.append(assignlat_for[0:searchlat_for+4])\n",
        "\n",
        "  searchlon_for = lat_lon_list_for[i].find(\" \")\n",
        "  assignlon_for = lat_lon_list_for[i]\n",
        "  forests_longitudes.append(assignlon_for[searchlon_for:searchlon_for+7])\n",
        "\n",
        "forests_longitudes_fixed = []\n",
        "for i in range(len(forests_longitudes)):\n",
        "  makeNeg_for = float(forests_longitudes[i])*-1\n",
        "  forests_longitudes_fixed.append(makeNeg_for)"
      ],
      "execution_count": null,
      "outputs": []
    },
    {
      "cell_type": "code",
      "metadata": {
        "id": "AcweemPec8SE"
      },
      "source": [
        "import numpy as np\n",
        "\n",
        "lat1 = 27.84055132\n",
        "lon1 = -82.83018329\n",
        "r = 6371\n",
        "p = np.pi/180\n",
        "distance = []\n",
        "distance_1 = []\n",
        "\n",
        "for i in range(len(parks_latitudes)):\n",
        "  lat2 = float(parks_latitudes[i])\n",
        "  lon2 = float(parks_longitudes_fixed[i])\n",
        "\n",
        "  a = 0.5 - (np.cos((lat2-lat1)*p)/2) + (np.cos(lat2*p) * ((1 - np.cos((lon2-lon1)*p))/2))\n",
        "  d = 2 * r * np.arcsin(np.sqrt(a))\n",
        "  distance.append(d)\n",
        "\n",
        "for j in range(len(forests_latitudes)):\n",
        "  lat2_for = float(forests_latitudes[j])\n",
        "  lon2_for = float(forests_longitudes_fixed[j])\n",
        "\n",
        "  a = 0.5 - (np.cos((lat2_for-lat1)*p)/2) + (np.cos(lat2_for*p) * ((1 - np.cos((lon2_for-lon1)*p))/2))\n",
        "  d = 2 * r * np.arcsin(np.sqrt(a))\n",
        "  distance_1.append(d)"
      ],
      "execution_count": null,
      "outputs": []
    },
    {
      "cell_type": "markdown",
      "metadata": {
        "id": "MOhz5dmjdKYv"
      },
      "source": [
        "lat1 = latitude value of point A\n",
        "\n",
        "lon1 = longitude value of point A\n",
        "\n",
        "lat2 = latitude value of point B\n",
        "\n",
        "lon2 = longitude value of point B\n",
        "\n",
        "r = 6371 #radius of Earth(KM)\n",
        "p = 0.017453292519943295  #Pi/180\n",
        "\n",
        "a = 0.5 - cos((lat2-lat1)*p)/2 + cos(lat1*p)*cos(lat2*p) * (1-cos((lon2-lon1)*p)) / 2\n",
        "\n",
        "d = 2 * r * asin(sqrt(a)) #2*R*asin"
      ]
    },
    {
      "cell_type": "code",
      "metadata": {
        "id": "7gt-quyeh53F"
      },
      "source": [
        "labels = []\n",
        "labels_1 = []\n",
        "for i in range(len(parks_latitudes)):\n",
        "  labels.append(\"Park\")\n",
        "\n",
        "for j in range(len(forests_latitudes)):\n",
        "  labels_1.append(\"Forest\")"
      ],
      "execution_count": null,
      "outputs": []
    },
    {
      "cell_type": "code",
      "metadata": {
        "colab": {
          "base_uri": "https://localhost:8080/"
        },
        "id": "QzHO2O_xoogy",
        "outputId": "383d4d70-3384-4a07-b47e-b6c66eee5db8"
      },
      "source": [
        "parks.columns"
      ],
      "execution_count": null,
      "outputs": [
        {
          "output_type": "execute_result",
          "data": {
            "text/plain": [
              "Index(['Name', 'Coordinates'], dtype='object')"
            ]
          },
          "metadata": {
            "tags": []
          },
          "execution_count": 35
        }
      ]
    },
    {
      "cell_type": "code",
      "metadata": {
        "id": "6az2bdBLoYP1"
      },
      "source": [
        "# Need Parks\n",
        "parkList = parks['Name'].tolist()\n",
        "forestList = forests['NameA'].tolist()"
      ],
      "execution_count": null,
      "outputs": []
    },
    {
      "cell_type": "code",
      "metadata": {
        "id": "BNjU3WJlIRl8"
      },
      "source": [
        "for a in forestList:\n",
        "  parkList.append(a)\n",
        "\n",
        "for b in forests_latitudes:\n",
        "  parks_latitudes.append(b)\n",
        "\n",
        "for c in forests_longitudes_fixed:\n",
        "  parks_longitudes_fixed.append(c)\n",
        "\n",
        "for d in distance_1:\n",
        "  distance.append(d)\n",
        "\n",
        "for e in labels_1:\n",
        "  labels.append(e)"
      ],
      "execution_count": null,
      "outputs": []
    },
    {
      "cell_type": "code",
      "metadata": {
        "id": "sQGtuFLiqeDo"
      },
      "source": [
        "finalFrame = pd.DataFrame(parkList)"
      ],
      "execution_count": null,
      "outputs": []
    },
    {
      "cell_type": "code",
      "metadata": {
        "id": "Ks8z-DVjJAzd"
      },
      "source": [
        "finalFrame['Latitude'] = parks_latitudes\n",
        "finalFrame['Longitude'] = parks_longitudes_fixed\n",
        "finalFrame['Distance From Home'] = distance\n",
        "finalFrame['Category'] = labels"
      ],
      "execution_count": null,
      "outputs": []
    },
    {
      "cell_type": "code",
      "metadata": {
        "colab": {
          "base_uri": "https://localhost:8080/",
          "height": 419
        },
        "id": "2cb25POssSC3",
        "outputId": "9e54432d-511b-4399-98f9-509a968ee983"
      },
      "source": [
        "finalFrame"
      ],
      "execution_count": null,
      "outputs": [
        {
          "output_type": "execute_result",
          "data": {
            "text/html": [
              "<div>\n",
              "<style scoped>\n",
              "    .dataframe tbody tr th:only-of-type {\n",
              "        vertical-align: middle;\n",
              "    }\n",
              "\n",
              "    .dataframe tbody tr th {\n",
              "        vertical-align: top;\n",
              "    }\n",
              "\n",
              "    .dataframe thead th {\n",
              "        text-align: right;\n",
              "    }\n",
              "</style>\n",
              "<table border=\"1\" class=\"dataframe\">\n",
              "  <thead>\n",
              "    <tr style=\"text-align: right;\">\n",
              "      <th></th>\n",
              "      <th>0</th>\n",
              "      <th>Latitude</th>\n",
              "      <th>Longitude</th>\n",
              "      <th>Distance From Home</th>\n",
              "      <th>Category</th>\n",
              "    </tr>\n",
              "  </thead>\n",
              "  <tbody>\n",
              "    <tr>\n",
              "      <th>0</th>\n",
              "      <td>Acadia</td>\n",
              "      <td>44.35</td>\n",
              "      <td>-68.210</td>\n",
              "      <td>2298.584278</td>\n",
              "      <td>Park</td>\n",
              "    </tr>\n",
              "    <tr>\n",
              "      <th>1</th>\n",
              "      <td>American Samoa</td>\n",
              "      <td>-14.25</td>\n",
              "      <td>-170.600</td>\n",
              "      <td>11221.723611</td>\n",
              "      <td>Park</td>\n",
              "    </tr>\n",
              "    <tr>\n",
              "      <th>2</th>\n",
              "      <td>Arches</td>\n",
              "      <td>38.68</td>\n",
              "      <td>-109.500</td>\n",
              "      <td>2886.571663</td>\n",
              "      <td>Park</td>\n",
              "    </tr>\n",
              "    <tr>\n",
              "      <th>3</th>\n",
              "      <td>Badlands</td>\n",
              "      <td>43.75</td>\n",
              "      <td>-102.500</td>\n",
              "      <td>2573.093368</td>\n",
              "      <td>Park</td>\n",
              "    </tr>\n",
              "    <tr>\n",
              "      <th>4</th>\n",
              "      <td>Big Bend</td>\n",
              "      <td>29.25</td>\n",
              "      <td>-103.200</td>\n",
              "      <td>2120.170941</td>\n",
              "      <td>Park</td>\n",
              "    </tr>\n",
              "    <tr>\n",
              "      <th>...</th>\n",
              "      <td>...</td>\n",
              "      <td>...</td>\n",
              "      <td>...</td>\n",
              "      <td>...</td>\n",
              "      <td>...</td>\n",
              "    </tr>\n",
              "    <tr>\n",
              "      <th>192</th>\n",
              "      <td>Wayne</td>\n",
              "      <td>39.167</td>\n",
              "      <td>-82.417</td>\n",
              "      <td>1260.097423</td>\n",
              "      <td>Forest</td>\n",
              "    </tr>\n",
              "    <tr>\n",
              "      <th>193</th>\n",
              "      <td>White Mountain</td>\n",
              "      <td>44.150</td>\n",
              "      <td>-71.417</td>\n",
              "      <td>2111.686457</td>\n",
              "      <td>Forest</td>\n",
              "    </tr>\n",
              "    <tr>\n",
              "      <th>194</th>\n",
              "      <td>White River</td>\n",
              "      <td>39.567</td>\n",
              "      <td>-106.880</td>\n",
              "      <td>2689.518133</td>\n",
              "      <td>Forest</td>\n",
              "    </tr>\n",
              "    <tr>\n",
              "      <th>195</th>\n",
              "      <td>Willamette</td>\n",
              "      <td>44.117</td>\n",
              "      <td>-122.180</td>\n",
              "      <td>4129.802746</td>\n",
              "      <td>Forest</td>\n",
              "    </tr>\n",
              "    <tr>\n",
              "      <th>196</th>\n",
              "      <td>William B. Bankhead</td>\n",
              "      <td>34.233</td>\n",
              "      <td>-87.333</td>\n",
              "      <td>844.346195</td>\n",
              "      <td>Forest</td>\n",
              "    </tr>\n",
              "  </tbody>\n",
              "</table>\n",
              "<p>197 rows × 5 columns</p>\n",
              "</div>"
            ],
            "text/plain": [
              "                       0 Latitude  Longitude  Distance From Home Category\n",
              "0                 Acadia    44.35    -68.210         2298.584278     Park\n",
              "1         American Samoa   -14.25   -170.600        11221.723611     Park\n",
              "2                 Arches    38.68   -109.500         2886.571663     Park\n",
              "3               Badlands    43.75   -102.500         2573.093368     Park\n",
              "4               Big Bend    29.25   -103.200         2120.170941     Park\n",
              "..                   ...      ...        ...                 ...      ...\n",
              "192                Wayne   39.167    -82.417         1260.097423   Forest\n",
              "193       White Mountain   44.150    -71.417         2111.686457   Forest\n",
              "194          White River   39.567   -106.880         2689.518133   Forest\n",
              "195           Willamette   44.117   -122.180         4129.802746   Forest\n",
              "196  William B. Bankhead   34.233    -87.333          844.346195   Forest\n",
              "\n",
              "[197 rows x 5 columns]"
            ]
          },
          "metadata": {
            "tags": []
          },
          "execution_count": 40
        }
      ]
    },
    {
      "cell_type": "code",
      "metadata": {
        "id": "G3w9PA-fmWe5"
      },
      "source": [
        "import csv\n",
        "ParksForests = finalFrame.to_csv('Parks_Forests.csv', index = True)"
      ],
      "execution_count": null,
      "outputs": []
    }
  ]
}